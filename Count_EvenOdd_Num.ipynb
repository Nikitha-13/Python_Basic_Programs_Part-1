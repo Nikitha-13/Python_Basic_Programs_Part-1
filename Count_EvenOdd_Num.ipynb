{
 "cells": [
  {
   "cell_type": "code",
   "execution_count": null,
   "metadata": {},
   "outputs": [],
   "source": [
    "#Program to count Even and Odd numbers\n",
    "\n",
    "\n",
    "list = [1, 2, 3, 4, 5, 6, 7, 8, 9, 0]\n",
    "\n",
    "# Initializing the counters\n",
    "even_count = 0\n",
    "odd_count = 0\n",
    "\n",
    "# Iterate through the list\n",
    "for num in list:\n",
    "    if num % 2 == 0:\n",
    "        even_count += 1\n",
    "    else:\n",
    "        odd_count += 1\n",
    "\n",
    "# Print the results\n",
    "print(\"Number of Even numbers in given list = \",even_count)\n",
    "print(\"Number of Odd numbers in given list = \",odd_count)"
   ]
  }
 ],
 "metadata": {
  "language_info": {
   "name": "python"
  },
  "orig_nbformat": 4
 },
 "nbformat": 4,
 "nbformat_minor": 2
}
