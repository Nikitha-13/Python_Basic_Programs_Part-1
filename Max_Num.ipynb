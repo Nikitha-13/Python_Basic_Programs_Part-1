{
 "cells": [
  {
   "cell_type": "code",
   "execution_count": null,
   "metadata": {},
   "outputs": [],
   "source": [
    "#Program to find Maximum of three numbers\n",
    "def max_num(a, b, c):\n",
    "\n",
    "    # Compare a with b and c to find max num\n",
    "    if a >= b and a >= c:\n",
    "        return a \n",
    "    \n",
    "    elif b >= a and b >= c:\n",
    "        return b\n",
    "    \n",
    "    else:\n",
    "        return c\n",
    "\n",
    "# test the function\n",
    "a = 12\n",
    "b = 15\n",
    "c = 29\n",
    "\n",
    "maximum = max_num(a, b, c)\n",
    "print(f\"The maximum of {a}, {b} and {c} is : {maximum}\")"
   ]
  }
 ],
 "metadata": {
  "language_info": {
   "name": "python"
  },
  "orig_nbformat": 4
 },
 "nbformat": 4,
 "nbformat_minor": 2
}
