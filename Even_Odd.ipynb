{
 "cells": [
  {
   "cell_type": "code",
   "execution_count": null,
   "metadata": {},
   "outputs": [],
   "source": [
    "#Program to find EvenOdd number\n",
    "x = int(input(\"Enter a number : \"))\n",
    "if x % 2 == 0 :\n",
    "    print(x, \"number is a Even number!!\")\n",
    "else:\n",
    "    print(x, \"number is a Odd number!!\")\n",
    "\n",
    "\n",
    "\n",
    "    # OR\n",
    "\n",
    "\n",
    "\n",
    "def even_odd(num):\n",
    "    if num % 2 == 0:\n",
    "        return \"Even\"\n",
    "    else:\n",
    "        return \"Odd\"\n",
    "\n",
    "user_num = int(input(\"Enter a number : \"))\n",
    "result = even_odd(user_num)\n",
    "print(f\"{user_num} is {result}.\")"
   ]
  }
 ],
 "metadata": {
  "language_info": {
   "name": "python"
  },
  "orig_nbformat": 4
 },
 "nbformat": 4,
 "nbformat_minor": 2
}
