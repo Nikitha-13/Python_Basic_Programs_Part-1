{
 "cells": [
  {
   "cell_type": "code",
   "execution_count": 1,
   "metadata": {},
   "outputs": [
    {
     "name": "stdout",
     "output_type": "stream",
     "text": [
      "Reversed String is :  ammA\n"
     ]
    }
   ],
   "source": [
    "#Program to print reverse of a String\n",
    "def rev_str(input_str):\n",
    "    return input_str[ : : -1]\n",
    "\n",
    "#Getting Input from User\n",
    "string = input(\"Enter a String : \")\n",
    "\n",
    "#Calling the function to print the result\n",
    "result = rev_str(string)\n",
    "print(\"Reversed String is : \", result)"
   ]
  }
 ],
 "metadata": {
  "kernelspec": {
   "display_name": "Python 3",
   "language": "python",
   "name": "python3"
  },
  "language_info": {
   "codemirror_mode": {
    "name": "ipython",
    "version": 3
   },
   "file_extension": ".py",
   "mimetype": "text/x-python",
   "name": "python",
   "nbconvert_exporter": "python",
   "pygments_lexer": "ipython3",
   "version": "3.7.8"
  },
  "orig_nbformat": 4
 },
 "nbformat": 4,
 "nbformat_minor": 2
}
