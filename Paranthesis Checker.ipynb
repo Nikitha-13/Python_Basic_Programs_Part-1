{
  "nbformat": 4,
  "nbformat_minor": 0,
  "metadata": {
    "colab": {
      "provenance": []
    },
    "kernelspec": {
      "name": "python3",
      "display_name": "Python 3"
    },
    "language_info": {
      "name": "python"
    }
  },
  "cells": [
    {
      "cell_type": "code",
      "execution_count": 10,
      "metadata": {
        "colab": {
          "base_uri": "https://localhost:8080/"
        },
        "id": "qB9m5cJlgfGl",
        "outputId": "272634ac-4015-40e5-c8df-3601ba9c112d"
      },
      "outputs": [
        {
          "output_type": "stream",
          "name": "stdout",
          "text": [
            "False\n",
            "False\n"
          ]
        }
      ],
      "source": [
        "class Sol:\n",
        "    def ispair(self, x):\n",
        "        # Initialize an empty stack to keep track of opening brackets\n",
        "        s1 = []\n",
        "\n",
        "        # Dictionary to map closing brackets to their corresponding opening brackets\n",
        "        dict1 = {')': '(', '}': '{', ']': '['}\n",
        "\n",
        "        # Iterate through each character in the input string\n",
        "        for i in x:\n",
        "            # Check if the character is an opening bracket\n",
        "            if i in dict1:\n",
        "                # Push opening bracket onto the stack\n",
        "                s1.append(i)\n",
        "            # Check if the character is a closing bracket\n",
        "            elif i in dict1:\n",
        "                # Check if the stack is empty or if the top of the stack doesn't match the corresponding opening bracket\n",
        "                if not s1 or s1.pop() != dict1[i]:\n",
        "                    # Brackets are not balanced, return False\n",
        "                    return False\n",
        "\n",
        "        # Check if there are any unmatched opening brackets left in the stack\n",
        "        return not s1\n",
        "\n",
        "# Example usage:\n",
        "sol_instance = Sol()\n",
        "result = sol_instance.ispair(\"({[]})\")\n",
        "print(result)  # Output: True\n",
        "\n",
        "result = sol_instance.ispair(\"({[})\")\n",
        "print(result)  # Output: False\n"
      ]
    }
  ]
}