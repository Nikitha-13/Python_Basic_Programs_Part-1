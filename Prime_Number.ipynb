{
 "cells": [
  {
   "cell_type": "code",
   "execution_count": null,
   "metadata": {},
   "outputs": [],
   "source": [
    "# Program to find Prime Number\n",
    "\n",
    "# Get user input for a number\n",
    "num = int(input(\"Enter Number : \"))\n",
    "\n",
    "# Check if the number is equal to 1 \n",
    "if num == 1:\n",
    "    print(num, \"is not a Prime number\")\n",
    "\n",
    "# Check if the number is greater than 1\n",
    "elif num > 1:\n",
    "\n",
    "    # Loop from 2 to (num -1) to check for factors\n",
    "    for i in range(2, num):\n",
    "\n",
    "        # Check if the num is divisible by i\n",
    "        if num % i == 0:\n",
    "            print(num, \"is not a prime number\")\n",
    "\n",
    "            # Break out the loop if the factor is found\n",
    "            break\n",
    "        else:\n",
    "\n",
    "            # If the loop completes without finding a factor then, it is a Prime Number\n",
    "            print(num, \"is a Prime number\")\n",
    "            break\n",
    "# Check if the number is less than or equal to 0\n",
    "else:\n",
    "    print(num, \"is not a Prime number\")"
   ]
  }
 ],
 "metadata": {
  "language_info": {
   "name": "python"
  },
  "orig_nbformat": 4
 },
 "nbformat": 4,
 "nbformat_minor": 2
}
